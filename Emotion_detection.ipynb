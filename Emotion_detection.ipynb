{
  "nbformat": 4,
  "nbformat_minor": 0,
  "metadata": {
    "colab": {
      "name": "Emotion detction.ipynb",
      "provenance": [],
      "collapsed_sections": []
    },
    "kernelspec": {
      "display_name": "Python 3",
      "language": "python",
      "name": "python3"
    },
    "language_info": {
      "codemirror_mode": {
        "name": "ipython",
        "version": 3
      },
      "file_extension": ".py",
      "mimetype": "text/x-python",
      "name": "python",
      "nbconvert_exporter": "python",
      "pygments_lexer": "ipython3",
      "version": "3.7.6"
    },
    "accelerator": "GPU"
  },
  "cells": [
    {
      "cell_type": "code",
      "metadata": {
        "colab": {
          "base_uri": "https://localhost:8080/"
        },
        "id": "PGqhI4cyFq6v",
        "outputId": "affb51e8-3ab6-4809-d60e-64322bb2cf2a"
      },
      "source": [
        "from google.colab import drive\n",
        "drive.mount('/content/drive')"
      ],
      "execution_count": 1,
      "outputs": [
        {
          "output_type": "stream",
          "text": [
            "Mounted at /content/drive\n"
          ],
          "name": "stdout"
        }
      ]
    },
    {
      "cell_type": "code",
      "metadata": {
        "id": "P-ThSLJxEMmY"
      },
      "source": [
        "import pandas as pd\n",
        "import numpy as np\n",
        "import matplotlib.pyplot as plt\n",
        "import os\n",
        "import cv2\n",
        "import tensorflow as tf\n",
        "from tensorflow.keras import models,layers"
      ],
      "execution_count": 2,
      "outputs": []
    },
    {
      "cell_type": "code",
      "metadata": {
        "colab": {
          "base_uri": "https://localhost:8080/",
          "height": 35
        },
        "id": "aWAR2CO1WvLZ",
        "outputId": "6d9103d1-3238-4756-c7fc-431a4d98e694"
      },
      "source": [
        "tf.test.gpu_device_name()"
      ],
      "execution_count": 3,
      "outputs": [
        {
          "output_type": "execute_result",
          "data": {
            "application/vnd.google.colaboratory.intrinsic+json": {
              "type": "string"
            },
            "text/plain": [
              "'/device:GPU:0'"
            ]
          },
          "metadata": {
            "tags": []
          },
          "execution_count": 3
        }
      ]
    },
    {
      "cell_type": "code",
      "metadata": {
        "id": "7ZgK8TvlEMmk"
      },
      "source": [
        "emotion_df=pd.read_csv('/content/drive/MyDrive/Colab Notebooks/Emotion Recognition/fer2013.csv')"
      ],
      "execution_count": 4,
      "outputs": []
    },
    {
      "cell_type": "code",
      "metadata": {
        "colab": {
          "base_uri": "https://localhost:8080/",
          "height": 204
        },
        "id": "1w3hMulcEMmk",
        "outputId": "1492b8d5-3342-4299-9826-9e26fa43db67"
      },
      "source": [
        "emotion_df.head()"
      ],
      "execution_count": 5,
      "outputs": [
        {
          "output_type": "execute_result",
          "data": {
            "text/html": [
              "<div>\n",
              "<style scoped>\n",
              "    .dataframe tbody tr th:only-of-type {\n",
              "        vertical-align: middle;\n",
              "    }\n",
              "\n",
              "    .dataframe tbody tr th {\n",
              "        vertical-align: top;\n",
              "    }\n",
              "\n",
              "    .dataframe thead th {\n",
              "        text-align: right;\n",
              "    }\n",
              "</style>\n",
              "<table border=\"1\" class=\"dataframe\">\n",
              "  <thead>\n",
              "    <tr style=\"text-align: right;\">\n",
              "      <th></th>\n",
              "      <th>emotion</th>\n",
              "      <th>pixels</th>\n",
              "      <th>Usage</th>\n",
              "    </tr>\n",
              "  </thead>\n",
              "  <tbody>\n",
              "    <tr>\n",
              "      <th>0</th>\n",
              "      <td>0</td>\n",
              "      <td>70 80 82 72 58 58 60 63 54 58 60 48 89 115 121...</td>\n",
              "      <td>Training</td>\n",
              "    </tr>\n",
              "    <tr>\n",
              "      <th>1</th>\n",
              "      <td>0</td>\n",
              "      <td>151 150 147 155 148 133 111 140 170 174 182 15...</td>\n",
              "      <td>Training</td>\n",
              "    </tr>\n",
              "    <tr>\n",
              "      <th>2</th>\n",
              "      <td>2</td>\n",
              "      <td>231 212 156 164 174 138 161 173 182 200 106 38...</td>\n",
              "      <td>Training</td>\n",
              "    </tr>\n",
              "    <tr>\n",
              "      <th>3</th>\n",
              "      <td>4</td>\n",
              "      <td>24 32 36 30 32 23 19 20 30 41 21 22 32 34 21 1...</td>\n",
              "      <td>Training</td>\n",
              "    </tr>\n",
              "    <tr>\n",
              "      <th>4</th>\n",
              "      <td>6</td>\n",
              "      <td>4 0 0 0 0 0 0 0 0 0 0 0 3 15 23 28 48 50 58 84...</td>\n",
              "      <td>Training</td>\n",
              "    </tr>\n",
              "  </tbody>\n",
              "</table>\n",
              "</div>"
            ],
            "text/plain": [
              "   emotion                                             pixels     Usage\n",
              "0        0  70 80 82 72 58 58 60 63 54 58 60 48 89 115 121...  Training\n",
              "1        0  151 150 147 155 148 133 111 140 170 174 182 15...  Training\n",
              "2        2  231 212 156 164 174 138 161 173 182 200 106 38...  Training\n",
              "3        4  24 32 36 30 32 23 19 20 30 41 21 22 32 34 21 1...  Training\n",
              "4        6  4 0 0 0 0 0 0 0 0 0 0 0 3 15 23 28 48 50 58 84...  Training"
            ]
          },
          "metadata": {
            "tags": []
          },
          "execution_count": 5
        }
      ]
    },
    {
      "cell_type": "markdown",
      "metadata": {
        "id": "kDAHl1i9EMm0"
      },
      "source": [
        "**Given pixels of each images is in string form!**"
      ]
    },
    {
      "cell_type": "code",
      "metadata": {
        "colab": {
          "base_uri": "https://localhost:8080/"
        },
        "id": "vQnZbK_bEMm0",
        "outputId": "893b01e5-c0b8-4758-8379-b488fced3b81"
      },
      "source": [
        "emotion_df.info()"
      ],
      "execution_count": 6,
      "outputs": [
        {
          "output_type": "stream",
          "text": [
            "<class 'pandas.core.frame.DataFrame'>\n",
            "RangeIndex: 35887 entries, 0 to 35886\n",
            "Data columns (total 3 columns):\n",
            " #   Column   Non-Null Count  Dtype \n",
            "---  ------   --------------  ----- \n",
            " 0   emotion  35887 non-null  int64 \n",
            " 1   pixels   35887 non-null  object\n",
            " 2   Usage    35887 non-null  object\n",
            "dtypes: int64(1), object(2)\n",
            "memory usage: 841.2+ KB\n"
          ],
          "name": "stdout"
        }
      ]
    },
    {
      "cell_type": "code",
      "metadata": {
        "colab": {
          "base_uri": "https://localhost:8080/"
        },
        "id": "fpLhEk45EMm1",
        "outputId": "16154527-8f6b-4740-bc0e-738217eff314"
      },
      "source": [
        "emotion_df.shape"
      ],
      "execution_count": 7,
      "outputs": [
        {
          "output_type": "execute_result",
          "data": {
            "text/plain": [
              "(35887, 3)"
            ]
          },
          "metadata": {
            "tags": []
          },
          "execution_count": 7
        }
      ]
    },
    {
      "cell_type": "markdown",
      "metadata": {
        "id": "sduvK-hMaEF9"
      },
      "source": [
        "**Emotion label**<br>\n",
        "0-Angry<br>\n",
        "1-Disgust<br>\n",
        "2-Fear<br>\n",
        "3-Happy<br>\n",
        "4-Sad<br>\n",
        "5-Surprise<br>\n",
        "6-Neutral\n"
      ]
    },
    {
      "cell_type": "code",
      "metadata": {
        "colab": {
          "base_uri": "https://localhost:8080/"
        },
        "id": "LS22CujHEMnD",
        "outputId": "bf79ec6f-1e5a-493a-c9f7-4c810f924ecb"
      },
      "source": [
        "emotion_df['emotion'].value_counts()"
      ],
      "execution_count": 8,
      "outputs": [
        {
          "output_type": "execute_result",
          "data": {
            "text/plain": [
              "3    8989\n",
              "6    6198\n",
              "4    6077\n",
              "2    5121\n",
              "0    4953\n",
              "5    4002\n",
              "1     547\n",
              "Name: emotion, dtype: int64"
            ]
          },
          "metadata": {
            "tags": []
          },
          "execution_count": 8
        }
      ]
    },
    {
      "cell_type": "code",
      "metadata": {
        "id": "NYw1jC7ATBZR"
      },
      "source": [
        "#Lets remove Disgust and Fear label and make just  5 labels\n",
        "drop_rows=emotion_df[(emotion_df.emotion==1) | (emotion_df.emotion==2)]\n",
        "emotion_df=emotion_df.drop(drop_rows.index)"
      ],
      "execution_count": 10,
      "outputs": []
    },
    {
      "cell_type": "code",
      "metadata": {
        "id": "fhC5sTT3Blv2"
      },
      "source": [
        "train_df=emotion_df[emotion_df['Usage']=='Training']\n",
        "test_df=emotion_df[emotion_df['Usage']=='PrivateTest']"
      ],
      "execution_count": 11,
      "outputs": []
    },
    {
      "cell_type": "code",
      "metadata": {
        "id": "OZSTXr6mEMnC"
      },
      "source": [
        "def split_x_y(df):\n",
        "  x=[]\n",
        "  img_pxl=df['pixels'].values\n",
        "  for image in img_pxl:\n",
        "      image=np.array(image.split(' '))\n",
        "      image=(image.reshape(48,48,1)).astype('float')\n",
        "      x.append(image)\n",
        "  \n",
        "  X=np.array(x)\n",
        "  X=X/225\n",
        "  Y=df['emotion'].values\n",
        "\n",
        "  return X,Y\n",
        "\n",
        "x_train,y_train=split_x_y(train_df)\n",
        "x_test,y_test=split_x_y(test_df) "
      ],
      "execution_count": 12,
      "outputs": []
    },
    {
      "cell_type": "code",
      "metadata": {
        "id": "_2sFbzq7MaVG"
      },
      "source": [
        "y_train=pd.get_dummies(y_train).values\n",
        "y_test_oh=pd.get_dummies(y_test).values"
      ],
      "execution_count": 13,
      "outputs": []
    },
    {
      "cell_type": "code",
      "metadata": {
        "id": "Xo_GuHx9pkQl"
      },
      "source": [
        "model=models.Sequential()\n",
        "model.add(layers.Conv2D(64,(3,3),input_shape=(48,48,1)))\n",
        "model.add(layers.Conv2D(64, (3, 3), padding=\"same\"))\n",
        "model.add(layers.BatchNormalization())\n",
        "model.add(layers.Activation('relu'))\n",
        "model.add(layers.MaxPooling2D())\n",
        "model.add(layers.Dropout(0.25))\n",
        "\n",
        "model.add(layers.Conv2D(128,(3,3),padding='same'))\n",
        "model.add(layers.Conv2D(128, (3, 3), padding=\"same\"))\n",
        "model.add(layers.BatchNormalization())\n",
        "model.add(layers.Activation('relu'))\n",
        "model.add(layers.MaxPooling2D())\n",
        "model.add(layers.Dropout(0.25))\n",
        "\n",
        "model.add(layers.Conv2D(128,(3,3)))\n",
        "model.add(layers.Conv2D(64, (3, 3), padding=\"same\"))\n",
        "model.add(layers.BatchNormalization())\n",
        "model.add(layers.Activation('relu'))\n",
        "model.add(layers.MaxPooling2D())\n",
        "model.add(layers.Dropout(0.25))\n",
        "\n",
        "model.add(layers.Conv2D(256,(3,3),padding='same'))\n",
        "model.add(layers.Conv2D(256,(3,3)))\n",
        "model.add(layers.BatchNormalization())\n",
        "model.add(layers.Activation('relu'))\n",
        "#model.add(layers.MaxPooling2D())\n",
        "model.add(layers.Dropout(0.25))\n",
        "\n",
        "model.add(layers.Flatten())\n",
        "model.add(layers.Dense(128,activation='relu'))\n",
        "model.add(layers.Dropout(0.3))\n",
        "model.add(layers.Dense(128,activation='relu'))\n",
        "model.add(layers.Dropout(0.3))\n",
        "model.add(layers.Dense(5,activation='softmax'))"
      ],
      "execution_count": 14,
      "outputs": []
    },
    {
      "cell_type": "code",
      "metadata": {
        "id": "bwk2Ku7rx-fP",
        "colab": {
          "base_uri": "https://localhost:8080/"
        },
        "outputId": "ac7bfd53-c436-48ee-ff5f-bd2edc9f3f24"
      },
      "source": [
        "model.summary()"
      ],
      "execution_count": 15,
      "outputs": [
        {
          "output_type": "stream",
          "text": [
            "Model: \"sequential\"\n",
            "_________________________________________________________________\n",
            "Layer (type)                 Output Shape              Param #   \n",
            "=================================================================\n",
            "conv2d (Conv2D)              (None, 46, 46, 64)        640       \n",
            "_________________________________________________________________\n",
            "conv2d_1 (Conv2D)            (None, 46, 46, 64)        36928     \n",
            "_________________________________________________________________\n",
            "batch_normalization (BatchNo (None, 46, 46, 64)        256       \n",
            "_________________________________________________________________\n",
            "activation (Activation)      (None, 46, 46, 64)        0         \n",
            "_________________________________________________________________\n",
            "max_pooling2d (MaxPooling2D) (None, 23, 23, 64)        0         \n",
            "_________________________________________________________________\n",
            "dropout (Dropout)            (None, 23, 23, 64)        0         \n",
            "_________________________________________________________________\n",
            "conv2d_2 (Conv2D)            (None, 23, 23, 128)       73856     \n",
            "_________________________________________________________________\n",
            "conv2d_3 (Conv2D)            (None, 23, 23, 128)       147584    \n",
            "_________________________________________________________________\n",
            "batch_normalization_1 (Batch (None, 23, 23, 128)       512       \n",
            "_________________________________________________________________\n",
            "activation_1 (Activation)    (None, 23, 23, 128)       0         \n",
            "_________________________________________________________________\n",
            "max_pooling2d_1 (MaxPooling2 (None, 11, 11, 128)       0         \n",
            "_________________________________________________________________\n",
            "dropout_1 (Dropout)          (None, 11, 11, 128)       0         \n",
            "_________________________________________________________________\n",
            "conv2d_4 (Conv2D)            (None, 9, 9, 128)         147584    \n",
            "_________________________________________________________________\n",
            "conv2d_5 (Conv2D)            (None, 9, 9, 64)          73792     \n",
            "_________________________________________________________________\n",
            "batch_normalization_2 (Batch (None, 9, 9, 64)          256       \n",
            "_________________________________________________________________\n",
            "activation_2 (Activation)    (None, 9, 9, 64)          0         \n",
            "_________________________________________________________________\n",
            "max_pooling2d_2 (MaxPooling2 (None, 4, 4, 64)          0         \n",
            "_________________________________________________________________\n",
            "dropout_2 (Dropout)          (None, 4, 4, 64)          0         \n",
            "_________________________________________________________________\n",
            "conv2d_6 (Conv2D)            (None, 4, 4, 256)         147712    \n",
            "_________________________________________________________________\n",
            "conv2d_7 (Conv2D)            (None, 2, 2, 256)         590080    \n",
            "_________________________________________________________________\n",
            "batch_normalization_3 (Batch (None, 2, 2, 256)         1024      \n",
            "_________________________________________________________________\n",
            "activation_3 (Activation)    (None, 2, 2, 256)         0         \n",
            "_________________________________________________________________\n",
            "dropout_3 (Dropout)          (None, 2, 2, 256)         0         \n",
            "_________________________________________________________________\n",
            "flatten (Flatten)            (None, 1024)              0         \n",
            "_________________________________________________________________\n",
            "dense (Dense)                (None, 128)               131200    \n",
            "_________________________________________________________________\n",
            "dropout_4 (Dropout)          (None, 128)               0         \n",
            "_________________________________________________________________\n",
            "dense_1 (Dense)              (None, 128)               16512     \n",
            "_________________________________________________________________\n",
            "dropout_5 (Dropout)          (None, 128)               0         \n",
            "_________________________________________________________________\n",
            "dense_2 (Dense)              (None, 5)                 645       \n",
            "=================================================================\n",
            "Total params: 1,368,581\n",
            "Trainable params: 1,367,557\n",
            "Non-trainable params: 1,024\n",
            "_________________________________________________________________\n"
          ],
          "name": "stdout"
        }
      ]
    },
    {
      "cell_type": "code",
      "metadata": {
        "id": "KpCq6y6wyXhR"
      },
      "source": [
        "optimizer=tf.keras.optimizers.Adam(0.001)\n",
        "model.compile(optimizer=optimizer,loss='categorical_crossentropy',metrics=['accuracy'])"
      ],
      "execution_count": 16,
      "outputs": []
    },
    {
      "cell_type": "code",
      "metadata": {
        "id": "K4LmdU_u2tA4",
        "colab": {
          "base_uri": "https://localhost:8080/"
        },
        "outputId": "c4a5b613-e30f-4934-f3d3-08fd4df4dae4"
      },
      "source": [
        "history=model.fit(x_train,y_train,batch_size=64,epochs=60,validation_data=(x_test,y_test_oh))"
      ],
      "execution_count": 17,
      "outputs": [
        {
          "output_type": "stream",
          "text": [
            "Epoch 1/60\n",
            "378/378 [==============================] - 45s 32ms/step - loss: 1.5653 - accuracy: 0.2949 - val_loss: 1.4274 - val_accuracy: 0.3746\n",
            "Epoch 2/60\n",
            "378/378 [==============================] - 11s 29ms/step - loss: 1.2644 - accuracy: 0.4742 - val_loss: 1.1233 - val_accuracy: 0.5406\n",
            "Epoch 3/60\n",
            "378/378 [==============================] - 11s 29ms/step - loss: 1.1221 - accuracy: 0.5459 - val_loss: 1.1097 - val_accuracy: 0.5379\n",
            "Epoch 4/60\n",
            "378/378 [==============================] - 11s 29ms/step - loss: 1.0448 - accuracy: 0.5841 - val_loss: 1.0899 - val_accuracy: 0.5486\n",
            "Epoch 5/60\n",
            "378/378 [==============================] - 11s 29ms/step - loss: 0.9863 - accuracy: 0.6122 - val_loss: 1.1605 - val_accuracy: 0.5502\n",
            "Epoch 6/60\n",
            "378/378 [==============================] - 11s 30ms/step - loss: 0.9760 - accuracy: 0.6203 - val_loss: 1.0122 - val_accuracy: 0.5805\n",
            "Epoch 7/60\n",
            "378/378 [==============================] - 11s 30ms/step - loss: 0.9265 - accuracy: 0.6360 - val_loss: 0.9622 - val_accuracy: 0.6141\n",
            "Epoch 8/60\n",
            "378/378 [==============================] - 11s 30ms/step - loss: 0.9209 - accuracy: 0.6446 - val_loss: 0.8736 - val_accuracy: 0.6630\n",
            "Epoch 9/60\n",
            "378/378 [==============================] - 11s 30ms/step - loss: 0.8829 - accuracy: 0.6580 - val_loss: 0.9359 - val_accuracy: 0.6228\n",
            "Epoch 10/60\n",
            "378/378 [==============================] - 11s 30ms/step - loss: 0.8682 - accuracy: 0.6636 - val_loss: 0.8784 - val_accuracy: 0.6507\n",
            "Epoch 11/60\n",
            "378/378 [==============================] - 12s 30ms/step - loss: 0.8586 - accuracy: 0.6700 - val_loss: 0.8514 - val_accuracy: 0.6510\n",
            "Epoch 12/60\n",
            "378/378 [==============================] - 11s 30ms/step - loss: 0.8200 - accuracy: 0.6846 - val_loss: 0.8321 - val_accuracy: 0.6750\n",
            "Epoch 13/60\n",
            "378/378 [==============================] - 12s 31ms/step - loss: 0.8186 - accuracy: 0.6804 - val_loss: 0.9393 - val_accuracy: 0.6151\n",
            "Epoch 14/60\n",
            "378/378 [==============================] - 12s 31ms/step - loss: 0.8048 - accuracy: 0.6905 - val_loss: 0.8397 - val_accuracy: 0.6730\n",
            "Epoch 15/60\n",
            "378/378 [==============================] - 12s 31ms/step - loss: 0.7866 - accuracy: 0.7007 - val_loss: 0.8688 - val_accuracy: 0.6707\n",
            "Epoch 16/60\n",
            "378/378 [==============================] - 12s 31ms/step - loss: 0.7669 - accuracy: 0.7110 - val_loss: 1.0328 - val_accuracy: 0.5921\n",
            "Epoch 17/60\n",
            "378/378 [==============================] - 12s 31ms/step - loss: 0.7721 - accuracy: 0.7081 - val_loss: 0.7750 - val_accuracy: 0.6949\n",
            "Epoch 18/60\n",
            "378/378 [==============================] - 12s 31ms/step - loss: 0.7599 - accuracy: 0.7138 - val_loss: 0.7965 - val_accuracy: 0.6979\n",
            "Epoch 19/60\n",
            "378/378 [==============================] - 12s 31ms/step - loss: 0.7375 - accuracy: 0.7194 - val_loss: 0.8363 - val_accuracy: 0.6793\n",
            "Epoch 20/60\n",
            "378/378 [==============================] - 12s 31ms/step - loss: 0.7378 - accuracy: 0.7215 - val_loss: 0.8588 - val_accuracy: 0.6856\n",
            "Epoch 21/60\n",
            "378/378 [==============================] - 12s 31ms/step - loss: 0.7251 - accuracy: 0.7274 - val_loss: 0.8087 - val_accuracy: 0.6949\n",
            "Epoch 22/60\n",
            "378/378 [==============================] - 12s 31ms/step - loss: 0.6986 - accuracy: 0.7379 - val_loss: 0.8642 - val_accuracy: 0.6673\n",
            "Epoch 23/60\n",
            "378/378 [==============================] - 12s 31ms/step - loss: 0.6937 - accuracy: 0.7407 - val_loss: 0.8203 - val_accuracy: 0.6823\n",
            "Epoch 24/60\n",
            "378/378 [==============================] - 12s 31ms/step - loss: 0.6799 - accuracy: 0.7404 - val_loss: 0.8043 - val_accuracy: 0.6813\n",
            "Epoch 25/60\n",
            "378/378 [==============================] - 12s 31ms/step - loss: 0.6761 - accuracy: 0.7478 - val_loss: 0.7684 - val_accuracy: 0.7076\n",
            "Epoch 26/60\n",
            "378/378 [==============================] - 12s 31ms/step - loss: 0.6705 - accuracy: 0.7481 - val_loss: 0.8151 - val_accuracy: 0.6683\n",
            "Epoch 27/60\n",
            "378/378 [==============================] - 12s 31ms/step - loss: 0.6523 - accuracy: 0.7576 - val_loss: 0.8248 - val_accuracy: 0.6933\n",
            "Epoch 28/60\n",
            "378/378 [==============================] - 12s 31ms/step - loss: 0.6597 - accuracy: 0.7473 - val_loss: 0.8516 - val_accuracy: 0.6810\n",
            "Epoch 29/60\n",
            "378/378 [==============================] - 12s 31ms/step - loss: 0.6353 - accuracy: 0.7580 - val_loss: 0.8472 - val_accuracy: 0.6910\n",
            "Epoch 30/60\n",
            "378/378 [==============================] - 12s 31ms/step - loss: 0.6374 - accuracy: 0.7638 - val_loss: 0.7572 - val_accuracy: 0.7073\n",
            "Epoch 31/60\n",
            "378/378 [==============================] - 12s 31ms/step - loss: 0.6228 - accuracy: 0.7674 - val_loss: 0.8038 - val_accuracy: 0.6966\n",
            "Epoch 32/60\n",
            "378/378 [==============================] - 12s 31ms/step - loss: 0.6055 - accuracy: 0.7777 - val_loss: 0.7648 - val_accuracy: 0.7099\n",
            "Epoch 33/60\n",
            "378/378 [==============================] - 12s 31ms/step - loss: 0.5965 - accuracy: 0.7740 - val_loss: 0.7993 - val_accuracy: 0.6966\n",
            "Epoch 34/60\n",
            "378/378 [==============================] - 12s 30ms/step - loss: 0.6071 - accuracy: 0.7751 - val_loss: 0.8401 - val_accuracy: 0.6883\n",
            "Epoch 35/60\n",
            "378/378 [==============================] - 12s 31ms/step - loss: 0.5870 - accuracy: 0.7883 - val_loss: 0.7631 - val_accuracy: 0.7126\n",
            "Epoch 36/60\n",
            "378/378 [==============================] - 12s 31ms/step - loss: 0.5797 - accuracy: 0.7865 - val_loss: 0.7787 - val_accuracy: 0.6983\n",
            "Epoch 37/60\n",
            "378/378 [==============================] - 12s 31ms/step - loss: 0.5535 - accuracy: 0.7927 - val_loss: 0.7544 - val_accuracy: 0.7209\n",
            "Epoch 38/60\n",
            "378/378 [==============================] - 12s 30ms/step - loss: 0.5743 - accuracy: 0.7872 - val_loss: 0.7825 - val_accuracy: 0.7019\n",
            "Epoch 39/60\n",
            "378/378 [==============================] - 12s 31ms/step - loss: 0.5582 - accuracy: 0.7905 - val_loss: 0.7698 - val_accuracy: 0.7189\n",
            "Epoch 40/60\n",
            "378/378 [==============================] - 12s 31ms/step - loss: 0.5381 - accuracy: 0.7993 - val_loss: 0.7720 - val_accuracy: 0.7156\n",
            "Epoch 41/60\n",
            "378/378 [==============================] - 12s 31ms/step - loss: 0.5480 - accuracy: 0.7970 - val_loss: 0.7845 - val_accuracy: 0.7013\n",
            "Epoch 42/60\n",
            "378/378 [==============================] - 12s 30ms/step - loss: 0.5453 - accuracy: 0.7941 - val_loss: 0.8586 - val_accuracy: 0.6903\n",
            "Epoch 43/60\n",
            "378/378 [==============================] - 12s 31ms/step - loss: 0.5306 - accuracy: 0.8041 - val_loss: 0.7692 - val_accuracy: 0.7069\n",
            "Epoch 44/60\n",
            "378/378 [==============================] - 12s 31ms/step - loss: 0.5281 - accuracy: 0.8048 - val_loss: 0.7546 - val_accuracy: 0.7219\n",
            "Epoch 45/60\n",
            "378/378 [==============================] - 12s 31ms/step - loss: 0.5349 - accuracy: 0.8032 - val_loss: 0.7510 - val_accuracy: 0.7285\n",
            "Epoch 46/60\n",
            "378/378 [==============================] - 12s 31ms/step - loss: 0.5198 - accuracy: 0.8051 - val_loss: 0.8729 - val_accuracy: 0.6850\n",
            "Epoch 47/60\n",
            "378/378 [==============================] - 12s 31ms/step - loss: 0.5062 - accuracy: 0.8111 - val_loss: 0.7627 - val_accuracy: 0.7136\n",
            "Epoch 48/60\n",
            "378/378 [==============================] - 12s 31ms/step - loss: 0.5039 - accuracy: 0.8155 - val_loss: 0.7677 - val_accuracy: 0.7152\n",
            "Epoch 49/60\n",
            "378/378 [==============================] - 12s 31ms/step - loss: 0.4954 - accuracy: 0.8161 - val_loss: 0.7605 - val_accuracy: 0.7315\n",
            "Epoch 50/60\n",
            "378/378 [==============================] - 12s 31ms/step - loss: 0.4949 - accuracy: 0.8157 - val_loss: 0.8035 - val_accuracy: 0.7053\n",
            "Epoch 51/60\n",
            "378/378 [==============================] - 12s 31ms/step - loss: 0.4739 - accuracy: 0.8273 - val_loss: 0.7615 - val_accuracy: 0.7309\n",
            "Epoch 52/60\n",
            "378/378 [==============================] - 12s 31ms/step - loss: 0.4823 - accuracy: 0.8179 - val_loss: 0.7806 - val_accuracy: 0.7049\n",
            "Epoch 53/60\n",
            "378/378 [==============================] - 12s 31ms/step - loss: 0.4640 - accuracy: 0.8330 - val_loss: 0.7675 - val_accuracy: 0.7226\n",
            "Epoch 54/60\n",
            "378/378 [==============================] - 12s 31ms/step - loss: 0.4803 - accuracy: 0.8234 - val_loss: 0.7737 - val_accuracy: 0.7249\n",
            "Epoch 55/60\n",
            "378/378 [==============================] - 12s 31ms/step - loss: 0.4641 - accuracy: 0.8275 - val_loss: 0.7845 - val_accuracy: 0.7159\n",
            "Epoch 56/60\n",
            "378/378 [==============================] - 12s 31ms/step - loss: 0.4585 - accuracy: 0.8312 - val_loss: 0.7739 - val_accuracy: 0.7162\n",
            "Epoch 57/60\n",
            "378/378 [==============================] - 12s 31ms/step - loss: 0.4548 - accuracy: 0.8336 - val_loss: 0.7539 - val_accuracy: 0.7252\n",
            "Epoch 58/60\n",
            "378/378 [==============================] - 12s 30ms/step - loss: 0.4454 - accuracy: 0.8360 - val_loss: 0.7695 - val_accuracy: 0.7232\n",
            "Epoch 59/60\n",
            "378/378 [==============================] - 12s 31ms/step - loss: 0.4425 - accuracy: 0.8395 - val_loss: 0.7964 - val_accuracy: 0.7169\n",
            "Epoch 60/60\n",
            "378/378 [==============================] - 12s 31ms/step - loss: 0.4366 - accuracy: 0.8424 - val_loss: 0.8117 - val_accuracy: 0.7009\n"
          ],
          "name": "stdout"
        }
      ]
    },
    {
      "cell_type": "code",
      "metadata": {
        "id": "cYVDOuOghCs7",
        "colab": {
          "base_uri": "https://localhost:8080/",
          "height": 541
        },
        "outputId": "2f503d2f-99dc-4ed2-a03f-2133c2a18595"
      },
      "source": [
        "accuracy=history.history['accuracy']\n",
        "loss=history.history['loss']\n",
        "val_accuracy=history.history['val_accuracy']\n",
        "val_loss=history.history['val_loss']\n",
        "epochs=[x for x in range(len(accuracy))]\n",
        "#plot Loss\n",
        "plt.plot(epochs,loss,label=' Training Loss')\n",
        "plt.plot(epochs,val_loss,label='Validation Loss')\n",
        "plt.xlabel('Epochs')\n",
        "plt.ylabel('Loss')\n",
        "plt.legend()\n",
        "plt.show()\n",
        "\n",
        "#plot Accuracy\n",
        "plt.plot(epochs,accuracy,label='Training Accuracy')\n",
        "plt.plot(epochs,val_accuracy,label='Validation Accuracy')\n",
        "plt.xlabel('epochs')\n",
        "plt.ylabel('Accuracy')\n",
        "plt.legend()\n",
        "plt.show()"
      ],
      "execution_count": 18,
      "outputs": [
        {
          "output_type": "display_data",
          "data": {
            "image/png": "[encoded data removed]",
            "text/plain": [
              "<Figure size 432x288 with 1 Axes>"
            ]
          },
          "metadata": {
            "tags": [],
            "needs_background": "light"
          }
        },
        {
          "output_type": "display_data",
          "data": {
            "image/png": "[encoded data removed]",
            "text/plain": [
              "<Figure size 432x288 with 1 Axes>"
            ]
          },
          "metadata": {
            "tags": [],
            "needs_background": "light"
          }
        }
      ]
    },
    {
      "cell_type": "code",
      "metadata": {
        "id": "8PmAeBOQBEhB",
        "colab": {
          "base_uri": "https://localhost:8080/"
        },
        "outputId": "485707e5-af68-4da1-db07-3026f9444908"
      },
      "source": [
        "model.evaluate(x_test,y_test_oh)"
      ],
      "execution_count": 20,
      "outputs": [
        {
          "output_type": "stream",
          "text": [
            "94/94 [==============================] - 1s 9ms/step - loss: 0.8117 - accuracy: 0.7009\n"
          ],
          "name": "stdout"
        },
        {
          "output_type": "execute_result",
          "data": {
            "text/plain": [
              "[0.8117265105247498, 0.7009314894676208]"
            ]
          },
          "metadata": {
            "tags": []
          },
          "execution_count": 20
        }
      ]
    },
    {
      "cell_type": "code",
      "metadata": {
        "id": "r8ahI9KuBReV",
        "colab": {
          "base_uri": "https://localhost:8080/"
        },
        "outputId": "3ca16c1b-e50a-4c64-e2e3-247c9333c683"
      },
      "source": [
        "y_pred=model.predict_classes(x_test)"
      ],
      "execution_count": 22,
      "outputs": [
        {
          "output_type": "stream",
          "text": [
            "/usr/local/lib/python3.7/dist-packages/tensorflow/python/keras/engine/sequential.py:450: UserWarning: `model.predict_classes()` is deprecated and will be removed after 2021-01-01. Please use instead:* `np.argmax(model.predict(x), axis=-1)`,   if your model does multi-class classification   (e.g. if it uses a `softmax` last-layer activation).* `(model.predict(x) > 0.5).astype(\"int32\")`,   if your model does binary classification   (e.g. if it uses a `sigmoid` last-layer activation).\n",
            "  warnings.warn('`model.predict_classes()` is deprecated and '\n"
          ],
          "name": "stderr"
        }
      ]
    },
    {
      "cell_type": "code",
      "metadata": {
        "id": "PVj46GyEfJNZ"
      },
      "source": [
        "model.save('/content/drive/MyDrive/Colab Notebooks/Emotion Recognition/fr_model.h5')"
      ],
      "execution_count": 23,
      "outputs": []
    }
  ]
}